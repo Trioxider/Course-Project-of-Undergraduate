{
 "cells": [
  {
   "cell_type": "code",
   "execution_count": 4,
   "metadata": {},
   "outputs": [],
   "source": [
    "from PIL import Image\n",
    "\n",
    "def merge_images(images, direction='horizontal'):\n",
    "    \"\"\"\n",
    "    将多个图片对象合并为一张图片。\n",
    "    images: 一个包含PIL图像对象的列表。\n",
    "    direction: 'horizontal' 或 'vertical'，指定合并方向。\n",
    "    \"\"\"\n",
    "    if direction == 'horizontal':\n",
    "        # 水平合并图片\n",
    "        widths, heights = zip(*(i.size for i in images))\n",
    "        total_width = sum(widths)\n",
    "        max_height = max(heights)\n",
    "        \n",
    "        new_img = Image.new('RGB', (total_width, max_height))\n",
    "        \n",
    "        x_offset = 0\n",
    "        for img in images:\n",
    "            new_img.paste(img, (x_offset, 0))\n",
    "            x_offset += img.size[0]\n",
    "        \n",
    "    elif direction == 'vertical':\n",
    "        # 垂直合并图片\n",
    "        widths, heights = zip(*(i.size for i in images))\n",
    "        max_width = max(widths)\n",
    "        total_height = sum(heights)\n",
    "        \n",
    "        new_img = Image.new('RGB', (max_width, total_height))\n",
    "        \n",
    "        y_offset = 0\n",
    "        for img in images:\n",
    "            new_img.paste(img, (0, y_offset))\n",
    "            y_offset += img.size[1]\n",
    "        \n",
    "    else:\n",
    "        raise ValueError(\"Direction must be 'horizontal' or 'vertical'\")\n",
    "    \n",
    "    return new_img\n",
    "\n",
    "# 加载图片\n",
    "img1 = Image.open('pca kmeans centroed 1.png')\n",
    "img2 = Image.open('pca kmeans centroed 2.png')\n",
    "img3 = Image.open('pca kmeans centroed 3.png')\n",
    "img4 = Image.open('pca kmeans centroed 4.png')\n",
    "\n",
    "# 合并图片\n",
    "merged_img = merge_images([img1, img2, img3, img4], direction='vertical')\n",
    "\n",
    "# 显示合并后的图片\n",
    "merged_img.show()\n",
    "\n",
    "# 保存合并后的图片\n",
    "merged_img.save('merged tsne kmeans centroed.jpg')"
   ]
  }
 ],
 "metadata": {
  "kernelspec": {
   "display_name": "Python 3",
   "language": "python",
   "name": "python3"
  },
  "language_info": {
   "codemirror_mode": {
    "name": "ipython",
    "version": 3
   },
   "file_extension": ".py",
   "mimetype": "text/x-python",
   "name": "python",
   "nbconvert_exporter": "python",
   "pygments_lexer": "ipython3",
   "version": "3.11.9"
  }
 },
 "nbformat": 4,
 "nbformat_minor": 2
}
